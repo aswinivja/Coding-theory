{
 "cells": [
  {
   "cell_type": "code",
   "execution_count": null,
   "id": "16fc7d02",
   "metadata": {},
   "outputs": [],
   "source": [
    "def crc_encode(data, generator=\"1011\"):\n",
    "    \"\"\"Cyclic Redundancy Check (CRC) Encoding\"\"\"\n",
    "    data = list(map(int, data))\n",
    "    gen = list(map(int, generator))\n",
    "    padded = data + [0] * (len(gen)-1)\n",
    "\n",
    "    for i in range(len(data)):\n",
    "        if padded[i] == 1:\n",
    "            for j in range(len(gen)):\n",
    "                padded[i+j] ^= gen[j]\n",
    "\n",
    "    remainder = padded[-(len(gen)-1):]\n",
    "    return data + remainder\n",
    "\n",
    "def crc_check(codeword, generator=\"1011\"):\n",
    "    \"\"\"Check CRC validity\"\"\"\n",
    "    gen = list(map(int, generator))\n",
    "    padded = codeword.copy()\n",
    "\n",
    "    for i in range(len(codeword) - len(gen) + 1):\n",
    "        if padded[i] == 1:\n",
    "            for j in range(len(gen)):\n",
    "                padded[i+j] ^= gen[j]\n",
    "    return all(bit == 0 for bit in padded[-(len(gen)-1):])\n"
   ]
  }
 ],
 "metadata": {},
 "nbformat": 4,
 "nbformat_minor": 5
}
