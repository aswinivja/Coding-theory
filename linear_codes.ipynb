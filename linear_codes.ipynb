{
 "cells": [
  {
   "cell_type": "code",
   "execution_count": null,
   "id": "7eb2407e",
   "metadata": {},
   "outputs": [],
   "source": [
    "import numpy as np\n",
    "\n",
    "class LinearCode:\n",
    "    def __init__(self, G, H):\n",
    "        self.G = np.array(G)  # Generator matrix\n",
    "        self.H = np.array(H)  # Parity-check matrix\n",
    "\n",
    "    def encode(self, message):\n",
    "        \"\"\"Encode using G matrix\"\"\"\n",
    "        return np.dot(message, self.G) % 2\n",
    "\n",
    "    def syndrome(self, received):\n",
    "        \"\"\"Compute syndrome using H matrix\"\"\"\n",
    "        return np.dot(received, self.H.T) % 2\n"
   ]
  }
 ],
 "metadata": {},
 "nbformat": 4,
 "nbformat_minor": 5
}
