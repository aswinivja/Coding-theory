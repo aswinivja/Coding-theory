{
 "cells": [
  {
   "cell_type": "code",
   "execution_count": null,
   "id": "09ec08aa",
   "metadata": {},
   "outputs": [],
   "source": [
    "def hamming_encode(data):\n",
    "    \"\"\"Encode 4-bit data into Hamming(7,4)\"\"\"\n",
    "    d = list(map(int, data))\n",
    "    p1 = (d[0] + d[1] + d[3]) % 2\n",
    "    p2 = (d[0] + d[2] + d[3]) % 2\n",
    "    p3 = (d[1] + d[2] + d[3]) % 2\n",
    "    return [p1, p2, d[0], p3, d[1], d[2], d[3]]\n",
    "\n",
    "def hamming_decode(code):\n",
    "    \"\"\"Decode Hamming(7,4) and correct single-bit errors\"\"\"\n",
    "    p1 = (code[0] + code[2] + code[4] + code[6]) % 2\n",
    "    p2 = (code[1] + code[2] + code[5] + code[6]) % 2\n",
    "    p3 = (code[3] + code[4] + code[5] + code[6]) % 2\n",
    "    error_pos = p1*1 + p2*2 + p3*4\n",
    "\n",
    "    if error_pos != 0:\n",
    "        code[error_pos-1] ^= 1  # Correct error\n",
    "\n",
    "    return [code[2], code[4], code[5], code[6]]\n"
   ]
  }
 ],
 "metadata": {},
 "nbformat": 4,
 "nbformat_minor": 5
}
