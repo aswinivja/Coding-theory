{
 "cells": [
  {
   "cell_type": "code",
   "execution_count": null,
   "id": "d25f8ea6",
   "metadata": {},
   "outputs": [],
   "source": [
    "import heapq\n",
    "from collections import Counter\n",
    "\n",
    "class HuffmanCoding:\n",
    "    def build_tree(self, text):\n",
    "        freq = Counter(text)\n",
    "        heap = [[wt, [sym, \"\"]] for sym, wt in freq.items()]\n",
    "        heapq.heapify(heap)\n",
    "\n",
    "        while len(heap) > 1:\n",
    "            lo = heapq.heappop(heap)\n",
    "            hi = heapq.heappop(heap)\n",
    "            for pair in lo[1:]:\n",
    "                pair[1] = '0' + pair[1]\n",
    "            for pair in hi[1:]:\n",
    "                pair[1] = '1' + pair[1]\n",
    "            heapq.heappush(heap, [lo[0] + hi[0]] + lo[1:] + hi[1:])\n",
    "        return sorted(heapq.heappop(heap)[1:], key=lambda p: (len(p[-1]), p))\n",
    "\n",
    "    def encode(self, text):\n",
    "        huff = self.build_tree(text)\n",
    "        huff_dict = {a: b for a, b in huff}\n",
    "        return ''.join(huff_dict[ch] for ch in text), huff_dict\n",
    "\n",
    "    def decode(self, encoded, huff_dict):\n",
    "        inv = {v: k for k, v in huff_dict.items()}\n",
    "        current, decoded = \"\", \"\"\n",
    "        for bit in encoded:\n",
    "            current += bit\n",
    "            if current in inv:\n",
    "                decoded += inv[current]\n",
    "                current = \"\"\n",
    "        return decoded\n"
   ]
  }
 ],
 "metadata": {},
 "nbformat": 4,
 "nbformat_minor": 5
}
