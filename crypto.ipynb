{
 "cells": [
  {
   "cell_type": "code",
   "execution_count": null,
   "id": "8e12c3f6",
   "metadata": {},
   "outputs": [],
   "source": [
    "def xor_encrypt(data, key=\"1010\"):\n",
    "    key = list(map(int, key))\n",
    "    return [(int(bit) ^ key[i % len(key)]) for i, bit in enumerate(data)]\n",
    "\n",
    "def xor_decrypt(data, key=\"1010\"):\n",
    "    return xor_encrypt(data, key)  # same as encryption\n"
   ]
  }
 ],
 "metadata": {},
 "nbformat": 4,
 "nbformat_minor": 5
}
